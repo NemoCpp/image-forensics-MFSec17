{
 "cells": [
  {
   "cell_type": "markdown",
   "metadata": {},
   "source": []
  },
  {
   "cell_type": "code",
   "execution_count": 1,
   "metadata": {
    "collapsed": true
   },
   "outputs": [],
   "source": [
    "import matplotlib as mpl\n",
    "mpl.rcParams['figure.dpi'] = 1000\n",
    "from matplotlib import pyplot as plt\n",
    "from matplotlib import figure as figr\n",
    "import numpy as np\n",
    "from collections import OrderedDict"
   ]
  },
  {
   "cell_type": "code",
   "execution_count": 2,
   "metadata": {
    "collapsed": false
   },
   "outputs": [],
   "source": [
    "# Getting results from Imagecatdev solr index by faceting on \"objects\" field\n",
    "#http://imagecat.dyndns.org/solr/imagecatdev/query?q=*:*&rows=0&fq=mainType:image%20AND%20subType:jpeg&fq=objects:*&facet=true&facet.field=objects\n",
    "\n",
    "stats = [\n",
    "    \"revolver\",\n",
    "    127036,\n",
    "    \"assault rifle\",\n",
    "    106139,\n",
    "    \"rifle\",\n",
    "    100273,\n",
    "    \"website\",\n",
    "    16690,\n",
    "    \"holster\",\n",
    "    11608,\n",
    "    \"dust wrapper\",\n",
    "    11101,\n",
    "    \"minivan\",\n",
    "    10138,\n",
    "    \"tool kit\",\n",
    "    8858,\n",
    "    \"sports car\",\n",
    "    7715,\n",
    "    \"analog clock\",\n",
    "    7553,\n",
    "    \"scabbard\",\n",
    "    7446,\n",
    "    \"pickup truck\",\n",
    "    6877,\n",
    "    \"mobile home\",\n",
    "    6831,\n",
    "    \"scooter\",\n",
    "    5903,\n",
    "    \"convertible\",\n",
    "    5866,\n",
    "    \"comic book\",\n",
    "    5657,\n",
    "    \"moped\",\n",
    "    5395,\n",
    "    \"moving van\",\n",
    "    5049,\n",
    "    \"electric guitar\",\n",
    "    4703,\n",
    "    \"Windsor tie\",\n",
    "    4464,\n",
    "    \"letter opener\",\n",
    "    4437,\n",
    "    \"paper knife\",\n",
    "    4437,\n",
    "    \"paperknife\",\n",
    "    4437,\n",
    "    \"jersey\",\n",
    "    4365,\n",
    "    \"stop watch\",\n",
    "    4222,\n",
    "    \"recreational vehicle\",\n",
    "    4054,\n",
    "    \"day bed\",\n",
    "    3734,\n",
    "    \"studio couch\",\n",
    "    3734,\n",
    "    \"chopper\",\n",
    "    3714,\n",
    "    \"cleaver\",\n",
    "    3714,\n",
    "    \"patio\",\n",
    "    3601,\n",
    "    \"terrace\",\n",
    "    3601,\n",
    "    \"lakeshore\",\n",
    "    3562,\n",
    "    \"lakeside\",\n",
    "    3562,\n",
    "    \"binder\",\n",
    "    3540,\n",
    "    \"ring-binder\",\n",
    "    3540,\n",
    "    \"bulletproof vest\",\n",
    "    3527,\n",
    "    \"can opener\",\n",
    "    3363,\n",
    "    \"tin opener\",\n",
    "    3363,\n",
    "    \"electric switch\",\n",
    "    3169,\n",
    "    \"speedboat\",\n",
    "    3068,\n",
    "    \"limo\",\n",
    "    3057,\n",
    "    \"limousine\",\n",
    "    3057,\n",
    "    \"wagon\",\n",
    "    3015,\n",
    "    \"oil filter\",\n",
    "    2965,\n",
    "    \"beach waggon\",\n",
    "    2913,\n",
    "    \"beach wagon\",\n",
    "    2913,\n",
    "    \"estate car\",\n",
    "    2913,\n",
    "    \"waggon\",\n",
    "    2913,\n",
    "    \"envelope\",\n",
    "    2896,\n",
    "    \"carton\",\n",
    "    2875,\n",
    "    \"microwave oven\",\n",
    "    2858,\n",
    "    \"seat belt\",\n",
    "    2653,\n",
    "    \"tobacco shop\",\n",
    "    2642,\n",
    "    \"thrasher\",\n",
    "    2636,\n",
    "    \"thresher\",\n",
    "    2636,\n",
    "    \"threshing machine\",\n",
    "    2636,\n",
    "    \"buckle\",\n",
    "    2577,\n",
    "    \"binoculars\",\n",
    "    2566,\n",
    "    \"field glasses\",\n",
    "    2566,\n",
    "    \"opera glasses\",\n",
    "    2566,\n",
    "    \"chain saw\",\n",
    "    2550,\n",
    "    \"chainsaw\",\n",
    "    2550,\n",
    "    \"suit\",\n",
    "    2500,\n",
    "    \"suit of clothes\",\n",
    "    2500,\n",
    "    \"Band Aid\",\n",
    "    2475,\n",
    "    \"magnetic compass\",\n",
    "    2460,\n",
    "    \"reflex camera\",\n",
    "    2434,\n",
    "    \"cassette player\",\n",
    "    2393,\n",
    "    \"bow\",\n",
    "    2380,\n",
    "    \"theater curtain\",\n",
    "    2363,\n",
    "] \n",
    "\n",
    "stats = stats[:20] # get top 10 pairs\n",
    "stats = dict(zip(stats[::2], stats[1::2]))"
   ]
  },
  {
   "cell_type": "code",
   "execution_count": 18,
   "metadata": {
    "collapsed": false
   },
   "outputs": [],
   "source": [
    "# sort by values\n",
    "d = OrderedDict(sorted(stats.items(), key=lambda kv: kv[1], reverse=True))\n",
    "\n",
    "\n",
    "plt.figure(dpi=500, figsize=(6,4))\n",
    "plt.gcf().subplots_adjust(bottom=0.2)\n",
    "jet = plt.get_cmap('jet')\n",
    "N = len(d)\n",
    "plt.bar(range(N), d.values(), width=0.5, color=jet(np.linspace(0, 1.5, N)))\n",
    "plt.xticks(range(N), d.keys(), rotation=35)\n",
    "#plt.show()\n",
    "plt.savefig(\"top10classes.png\", dpi=500)"
   ]
  },
  {
   "cell_type": "markdown",
   "metadata": {},
   "source": [
    "# Showing image\n",
    "![Image](top10classes.png)"
   ]
  },
  {
   "cell_type": "code",
   "execution_count": 70,
   "metadata": {
    "collapsed": false
   },
   "outputs": [
    {
     "name": "stdout",
     "output_type": "stream",
     "text": [
      "analysis.ipynb top10class.png\r\n"
     ]
    }
   ],
   "source": [
    "!ls"
   ]
  },
  {
   "cell_type": "code",
   "execution_count": null,
   "metadata": {
    "collapsed": true
   },
   "outputs": [],
   "source": []
  }
 ],
 "metadata": {
  "anaconda-cloud": {},
  "kernelspec": {
   "display_name": "Python [conda root]",
   "language": "python",
   "name": "conda-root-py"
  },
  "language_info": {
   "codemirror_mode": {
    "name": "ipython",
    "version": 2
   },
   "file_extension": ".py",
   "mimetype": "text/x-python",
   "name": "python",
   "nbconvert_exporter": "python",
   "pygments_lexer": "ipython2",
   "version": "2.7.10"
  }
 },
 "nbformat": 4,
 "nbformat_minor": 1
}
