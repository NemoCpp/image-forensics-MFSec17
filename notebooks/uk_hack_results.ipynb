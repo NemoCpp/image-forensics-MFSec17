{
 "cells": [
  {
   "cell_type": "code",
   "execution_count": null,
   "metadata": {
    "collapsed": true
   },
   "outputs": [],
   "source": []
  },
  {
   "cell_type": "code",
   "execution_count": 75,
   "metadata": {
    "collapsed": true
   },
   "outputs": [],
   "source": [
    "import csv\n",
    "from matplotlib import pyplot as plt\n",
    "import pandas as pd\n",
    "from copy import copy"
   ]
  },
  {
   "cell_type": "code",
   "execution_count": 145,
   "metadata": {
    "collapsed": false
   },
   "outputs": [],
   "source": [
    "results_file = \"../data/uk-hack-results/result.list\"\n",
    "imglist_file = \"../data/uk-hack-results/Image_Annotation_Training_Data_Set.csv\"\n",
    "\n",
    "images = pd.read_csv(imglist_file)\n",
    "results = pd.read_csv(results_file)\n",
    "images['path'] = images['Image ID'].map(lambda x: \"%d.jpg\" % x)\n",
    "# filter the unnecessary rows\n",
    "images = images.query(\"Task=='subject-type'\")"
   ]
  },
  {
   "cell_type": "code",
   "execution_count": 146,
   "metadata": {
    "collapsed": false
   },
   "outputs": [],
   "source": [
    "res = results.to_dict(orient='records')\n",
    "imgs = images.to_dict(orient='records')"
   ]
  },
  {
   "cell_type": "code",
   "execution_count": 191,
   "metadata": {
    "collapsed": false
   },
   "outputs": [],
   "source": [
    "def get_tops(r, topk=9):\n",
    "    r = copy(r)\n",
    "    p = r['path']\n",
    "    del r['path']\n",
    "    return (p, sorted(r.items(), key=lambda x: x[1], reverse=True)[:topk])\n",
    "tops_d = dict(map(get_tops, res))\n",
    "imgs_d = dict(map(lambda x: (x['path'], x['Label']), imgs))"
   ]
  },
  {
   "cell_type": "code",
   "execution_count": 192,
   "metadata": {
    "collapsed": false
   },
   "outputs": [
    {
     "name": "stdout",
     "output_type": "stream",
     "text": [
      "('Missing results:', set(['2720.jpg', '2715.jpg', '2648.jpg', '2759.jpg', '2685.jpg']))\n",
      "('Missing Labels:', 233)\n",
      "('Total labelled items for which we have results :', 1192)\n"
     ]
    }
   ],
   "source": [
    "#dict(map(lambda x: (x['path'], x['Label']), imgs[:10]))\n",
    "print(\"Missing results:\", set(imgs_d.keys()) - set(tops_d.keys())) # there were JPEG parse errors from tensorflow\n",
    "print(\"Missing Labels:\", len(set(tops_d.keys()) - set(imgs_d.keys()))) # Some are missing labels\n",
    "\n",
    "dataset = set(imgs_d.keys()) & set(tops_d.keys()) # intersection\n",
    "print(\"Total labelled items for which we have results :\", len(dataset))"
   ]
  },
  {
   "cell_type": "code",
   "execution_count": 193,
   "metadata": {
    "collapsed": false
   },
   "outputs": [
    {
     "data": {
      "text/plain": [
       "Counter({'ammunition': 69,\n",
       "         'conversion-parts': 3,\n",
       "         'frame-lower-receiver': 7,\n",
       "         'handgun': 392,\n",
       "         'other': 173,\n",
       "         'rifle': 272,\n",
       "         'shotgun': 275,\n",
       "         'silencer': 4,\n",
       "         'skipped': 2})"
      ]
     },
     "execution_count": 193,
     "metadata": {},
     "output_type": "execute_result"
    }
   ],
   "source": [
    "from collections import Counter\n",
    "Counter(imgs_d.values())"
   ]
  },
  {
   "cell_type": "code",
   "execution_count": 194,
   "metadata": {
    "collapsed": false
   },
   "outputs": [
    {
     "data": {
      "text/plain": [
       "['revolver, six-gun, six-shooter', 'assault rifle, assault gun']"
      ]
     },
     "execution_count": 194,
     "metadata": {},
     "output_type": "execute_result"
    }
   ],
   "source": [
    "# Keys are here http://image-net.org/challenges/LSVRC/2014/browse-synsets\n",
    "filter(lambda k: 'gun' in k, results.keys())        "
   ]
  },
  {
   "cell_type": "code",
   "execution_count": 224,
   "metadata": {
    "collapsed": true
   },
   "outputs": [],
   "source": [
    "m = {\n",
    "    'revolver, six-gun, six-shooter': 'handgun',\n",
    "    'assault rifle, assault gun': 'rifle',\n",
    "    'rifle': 'rifle'\n",
    "}\n",
    "revm = {\n",
    "    'rifle': set(['rifle', 'assault rifle, assault gun']),\n",
    "    'handgun':set(['revolver, six-gun, six-shooter'])\n",
    "}"
   ]
  },
  {
   "cell_type": "code",
   "execution_count": 234,
   "metadata": {
    "collapsed": false
   },
   "outputs": [
    {
     "name": "stdout",
     "output_type": "stream",
     "text": [
      "Top 1\n",
      "         correct  error  total\n",
      "handgun    202.0  190.0  392.0\n",
      "other        NaN    NaN  255.0\n",
      "rifle      438.0  107.0  545.0\n",
      "\n",
      "Top 3\n",
      "         correct  error  total\n",
      "handgun    276.0  116.0  392.0\n",
      "other        NaN    NaN  255.0\n",
      "rifle      498.0   47.0  545.0\n",
      "\n",
      "Top 5\n",
      "         correct  error  total\n",
      "handgun    309.0   83.0  392.0\n",
      "other        NaN    NaN  255.0\n",
      "rifle      505.0   40.0  545.0\n",
      "\n",
      "Top 7\n",
      "         correct  error  total\n",
      "handgun    317.0   75.0  392.0\n",
      "other        NaN    NaN  255.0\n",
      "rifle      514.0   31.0  545.0\n"
     ]
    }
   ],
   "source": [
    "from collections import defaultdict as ddict\n",
    "\n",
    "gun_classes = set(revm.keys()) # truth labels\n",
    "def quantify(topk, debug=False):\n",
    "    if debug:\n",
    "        f = open('../data/uk-hack-results/error-analysis-top%d.txt' % topk, 'w')\n",
    "    table = ddict(lambda: ddict(int))\n",
    "    for img in list(dataset)[:]:\n",
    "        truth = imgs_d[img]\n",
    "        preds = set(list(map(lambda x: x[0], tops_d[img]))[:topk])\n",
    "        if truth == 'shotgun':\n",
    "            truth = 'rifle' # there is no explicit distinction between shotgun and rifle in ImageNet\n",
    "        if truth not in gun_classes:\n",
    "            truth = 'other'\n",
    "        else:\n",
    "            if revm.get(truth) & preds: #intersection of truth aliases and top predictions\n",
    "                table[truth]['correct'] += 1\n",
    "            else:\n",
    "                table[truth]['error'] += 1\n",
    "                if debug:\n",
    "                    f.write(\"%s\\n\" % str((img, truth, '-->', preds)))\n",
    "        table[truth]['total'] += 1\n",
    "    if debug:\n",
    "        f.close()\n",
    "    return table\n",
    "\n",
    "print(\"Top 1\")\n",
    "print(pd.DataFrame(data=quantify(1)).transpose())\n",
    "print(\"\\nTop 3\")\n",
    "print(pd.DataFrame(data=quantify(3)).transpose())\n",
    "print(\"\\nTop 5\")\n",
    "print(pd.DataFrame(data=quantify(5)).transpose())\n",
    "print(\"\\nTop 7\")\n",
    "print(pd.DataFrame(data=quantify(7, True)).transpose())\n"
   ]
  },
  {
   "cell_type": "code",
   "execution_count": 226,
   "metadata": {
    "collapsed": false
   },
   "outputs": [
    {
     "data": {
      "text/html": [
       "<div>\n",
       "<table border=\"1\" class=\"dataframe\">\n",
       "  <thead>\n",
       "    <tr style=\"text-align: right;\">\n",
       "      <th></th>\n",
       "      <th>correct</th>\n",
       "      <th>error</th>\n",
       "      <th>total</th>\n",
       "    </tr>\n",
       "  </thead>\n",
       "  <tbody>\n",
       "    <tr>\n",
       "      <th>handgun</th>\n",
       "      <td>330.0</td>\n",
       "      <td>62.0</td>\n",
       "      <td>392.0</td>\n",
       "    </tr>\n",
       "    <tr>\n",
       "      <th>other</th>\n",
       "      <td>NaN</td>\n",
       "      <td>NaN</td>\n",
       "      <td>255.0</td>\n",
       "    </tr>\n",
       "    <tr>\n",
       "      <th>rifle</th>\n",
       "      <td>262.0</td>\n",
       "      <td>8.0</td>\n",
       "      <td>545.0</td>\n",
       "    </tr>\n",
       "  </tbody>\n",
       "</table>\n",
       "</div>"
      ],
      "text/plain": [
       "         correct  error  total\n",
       "handgun    330.0   62.0  392.0\n",
       "other        NaN    NaN  255.0\n",
       "rifle      262.0    8.0  545.0"
      ]
     },
     "execution_count": 226,
     "metadata": {},
     "output_type": "execute_result"
    }
   ],
   "source": [
    "tab = pd.DataFrame(data=quantify(9)).transpose()\n",
    "tab"
   ]
  },
  {
   "cell_type": "code",
   "execution_count": null,
   "metadata": {
    "collapsed": true
   },
   "outputs": [],
   "source": []
  }
 ],
 "metadata": {
  "anaconda-cloud": {},
  "kernelspec": {
   "display_name": "Python [conda root]",
   "language": "python",
   "name": "conda-root-py"
  },
  "language_info": {
   "codemirror_mode": {
    "name": "ipython",
    "version": 2
   },
   "file_extension": ".py",
   "mimetype": "text/x-python",
   "name": "python",
   "nbconvert_exporter": "python",
   "pygments_lexer": "ipython2",
   "version": "2.7.10"
  }
 },
 "nbformat": 4,
 "nbformat_minor": 1
}
